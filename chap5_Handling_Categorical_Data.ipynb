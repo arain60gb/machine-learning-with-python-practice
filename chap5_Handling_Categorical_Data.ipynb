{
  "nbformat": 4,
  "nbformat_minor": 0,
  "metadata": {
    "colab": {
      "name": "chap5 Handling Categorical Data.ipynb",
      "provenance": [],
      "collapsed_sections": [],
      "authorship_tag": "ABX9TyMEMLR2Sf3EduqQ+qDJKaOy",
      "include_colab_link": true
    },
    "kernelspec": {
      "name": "python3",
      "display_name": "Python 3"
    },
    "language_info": {
      "name": "python"
    },
    "accelerator": "TPU"
  },
  "cells": [
    {
      "cell_type": "markdown",
      "metadata": {
        "id": "view-in-github",
        "colab_type": "text"
      },
      "source": [
        "<a href=\"https://colab.research.google.com/github/zainali60/machine-learning-with-python-practice/blob/main/chap5_Handling_Categorical_Data.ipynb\" target=\"_parent\"><img src=\"https://colab.research.google.com/assets/colab-badge.svg\" alt=\"Open In Colab\"/></a>"
      ]
    },
    {
      "cell_type": "code",
      "metadata": {
        "id": "Cyd2Ph_cNOyD"
      },
      "source": [
        "import numpy as np\n",
        "from sklearn.preprocessing import LabelBinarizer, MultiLabelBinarizer"
      ],
      "execution_count": 1,
      "outputs": []
    },
    {
      "cell_type": "code",
      "metadata": {
        "id": "jPiatkM8OSuc"
      },
      "source": [
        "# Create feature\n",
        "feature = np.array([[\"Texas\"],\n",
        "                    [\"California\"],\n",
        "                    [\"Texas\"],\n",
        "                    [\"Delaware\"],\n",
        "                    [\"Texas\"]])\n",
        "# Create one-hot encoder\n",
        "one_hot = LabelBinarizer()"
      ],
      "execution_count": 2,
      "outputs": []
    },
    {
      "cell_type": "code",
      "metadata": {
        "colab": {
          "base_uri": "https://localhost:8080/"
        },
        "id": "9BG1rozMO27j",
        "outputId": "a4302c1d-1bb7-41c9-e720-7455353b977e"
      },
      "source": [
        "one_hot.fit_transform(feature)"
      ],
      "execution_count": 3,
      "outputs": [
        {
          "output_type": "execute_result",
          "data": {
            "text/plain": [
              "array([[0, 0, 1],\n",
              "       [1, 0, 0],\n",
              "       [0, 0, 1],\n",
              "       [0, 1, 0],\n",
              "       [0, 0, 1]])"
            ]
          },
          "metadata": {
            "tags": []
          },
          "execution_count": 3
        }
      ]
    },
    {
      "cell_type": "code",
      "metadata": {
        "colab": {
          "base_uri": "https://localhost:8080/"
        },
        "id": "ryx9tq3vPEr2",
        "outputId": "06c6e25c-3d13-437b-bccb-da1d7e08112f"
      },
      "source": [
        "# View feature classes\n",
        "one_hot.classes_"
      ],
      "execution_count": 4,
      "outputs": [
        {
          "output_type": "execute_result",
          "data": {
            "text/plain": [
              "array(['California', 'Delaware', 'Texas'], dtype='<U10')"
            ]
          },
          "metadata": {
            "tags": []
          },
          "execution_count": 4
        }
      ]
    },
    {
      "cell_type": "code",
      "metadata": {
        "colab": {
          "base_uri": "https://localhost:8080/"
        },
        "id": "oBTRE6BKPTb4",
        "outputId": "4c108bc1-ddb2-4543-e083-ee39c1c3978c"
      },
      "source": [
        "# Reverse one-hot encoding\n",
        "one_hot.inverse_transform(one_hot.transform(feature))"
      ],
      "execution_count": 5,
      "outputs": [
        {
          "output_type": "execute_result",
          "data": {
            "text/plain": [
              "array(['Texas', 'California', 'Texas', 'Delaware', 'Texas'], dtype='<U10')"
            ]
          },
          "metadata": {
            "tags": []
          },
          "execution_count": 5
        }
      ]
    },
    {
      "cell_type": "code",
      "metadata": {
        "id": "jqEIxI6zPilu"
      },
      "source": [
        "# pandas encoding method\n",
        "import pandas as pd"
      ],
      "execution_count": 6,
      "outputs": []
    },
    {
      "cell_type": "code",
      "metadata": {
        "colab": {
          "base_uri": "https://localhost:8080/",
          "height": 204
        },
        "id": "DDLkQq9RP9Xa",
        "outputId": "8e1e7690-e3c9-467b-f9ca-a441e68f908c"
      },
      "source": [
        "pd.get_dummies(feature[:,0])"
      ],
      "execution_count": 7,
      "outputs": [
        {
          "output_type": "execute_result",
          "data": {
            "text/html": [
              "<div>\n",
              "<style scoped>\n",
              "    .dataframe tbody tr th:only-of-type {\n",
              "        vertical-align: middle;\n",
              "    }\n",
              "\n",
              "    .dataframe tbody tr th {\n",
              "        vertical-align: top;\n",
              "    }\n",
              "\n",
              "    .dataframe thead th {\n",
              "        text-align: right;\n",
              "    }\n",
              "</style>\n",
              "<table border=\"1\" class=\"dataframe\">\n",
              "  <thead>\n",
              "    <tr style=\"text-align: right;\">\n",
              "      <th></th>\n",
              "      <th>California</th>\n",
              "      <th>Delaware</th>\n",
              "      <th>Texas</th>\n",
              "    </tr>\n",
              "  </thead>\n",
              "  <tbody>\n",
              "    <tr>\n",
              "      <th>0</th>\n",
              "      <td>0</td>\n",
              "      <td>0</td>\n",
              "      <td>1</td>\n",
              "    </tr>\n",
              "    <tr>\n",
              "      <th>1</th>\n",
              "      <td>1</td>\n",
              "      <td>0</td>\n",
              "      <td>0</td>\n",
              "    </tr>\n",
              "    <tr>\n",
              "      <th>2</th>\n",
              "      <td>0</td>\n",
              "      <td>0</td>\n",
              "      <td>1</td>\n",
              "    </tr>\n",
              "    <tr>\n",
              "      <th>3</th>\n",
              "      <td>0</td>\n",
              "      <td>1</td>\n",
              "      <td>0</td>\n",
              "    </tr>\n",
              "    <tr>\n",
              "      <th>4</th>\n",
              "      <td>0</td>\n",
              "      <td>0</td>\n",
              "      <td>1</td>\n",
              "    </tr>\n",
              "  </tbody>\n",
              "</table>\n",
              "</div>"
            ],
            "text/plain": [
              "   California  Delaware  Texas\n",
              "0           0         0      1\n",
              "1           1         0      0\n",
              "2           0         0      1\n",
              "3           0         1      0\n",
              "4           0         0      1"
            ]
          },
          "metadata": {
            "tags": []
          },
          "execution_count": 7
        }
      ]
    },
    {
      "cell_type": "code",
      "metadata": {
        "id": "Ll1Jr0CwQED6"
      },
      "source": [
        "# Create multiclass feature\n",
        "multiclass_feature = [(\"Texas\", \"Florida\"),\n",
        "                      (\"California\", \"Alabama\"),\n",
        "                      (\"Texas\", \"Florida\"),\n",
        "                      (\"Delware\", \"Florida\"),\n",
        "                      (\"Texas\", \"Alabama\")]\n",
        "# Create multiclass one-hot encoder\n",
        "one_hot_multiclass = MultiLabelBinarizer()"
      ],
      "execution_count": 8,
      "outputs": []
    },
    {
      "cell_type": "code",
      "metadata": {
        "colab": {
          "base_uri": "https://localhost:8080/"
        },
        "id": "rr8ozxVhQrVR",
        "outputId": "14555aa1-fc90-4167-b0f1-cab4a7bee798"
      },
      "source": [
        "one_hot_multiclass.fit_transform(multiclass_feature)"
      ],
      "execution_count": 9,
      "outputs": [
        {
          "output_type": "execute_result",
          "data": {
            "text/plain": [
              "array([[0, 0, 0, 1, 1],\n",
              "       [1, 1, 0, 0, 0],\n",
              "       [0, 0, 0, 1, 1],\n",
              "       [0, 0, 1, 1, 0],\n",
              "       [1, 0, 0, 0, 1]])"
            ]
          },
          "metadata": {
            "tags": []
          },
          "execution_count": 9
        }
      ]
    },
    {
      "cell_type": "code",
      "metadata": {
        "colab": {
          "base_uri": "https://localhost:8080/"
        },
        "id": "k0-YdvKHQygD",
        "outputId": "f256f1eb-a30d-43a1-e31b-349bc15313d1"
      },
      "source": [
        "one_hot_multiclass.classes_"
      ],
      "execution_count": 10,
      "outputs": [
        {
          "output_type": "execute_result",
          "data": {
            "text/plain": [
              "array(['Alabama', 'California', 'Delware', 'Florida', 'Texas'],\n",
              "      dtype=object)"
            ]
          },
          "metadata": {
            "tags": []
          },
          "execution_count": 10
        }
      ]
    },
    {
      "cell_type": "code",
      "metadata": {
        "id": "xl94pgF-Q5G7"
      },
      "source": [
        "# Create features\n",
        "dataframe = pd.DataFrame({\"Score\": [\"Low\", \"Low\", \"Medium\", \"Medium\", \"High\"]})\n",
        "# Create mapper\n",
        "scale_mapper = {\"Low\":1,\"Medium\":2,\"High\":3}"
      ],
      "execution_count": 11,
      "outputs": []
    },
    {
      "cell_type": "code",
      "metadata": {
        "colab": {
          "base_uri": "https://localhost:8080/"
        },
        "id": "HvMC3Zl7RaEo",
        "outputId": "41e4ad21-a118-4a50-8105-db203f2b9002"
      },
      "source": [
        "# Replace feature values with scale\n",
        "dataframe[\"Score\"].replace(scale_mapper)"
      ],
      "execution_count": 12,
      "outputs": [
        {
          "output_type": "execute_result",
          "data": {
            "text/plain": [
              "0    1\n",
              "1    1\n",
              "2    2\n",
              "3    2\n",
              "4    3\n",
              "Name: Score, dtype: int64"
            ]
          },
          "metadata": {
            "tags": []
          },
          "execution_count": 12
        }
      ]
    },
    {
      "cell_type": "code",
      "metadata": {
        "id": "Kf_2ULMURoQw"
      },
      "source": [
        "from sklearn.feature_extraction import DictVectorizer"
      ],
      "execution_count": 13,
      "outputs": []
    },
    {
      "cell_type": "code",
      "metadata": {
        "colab": {
          "base_uri": "https://localhost:8080/",
          "height": 173
        },
        "id": "FJqNFlJFSOmT",
        "outputId": "f17224e4-011b-4545-c75f-cd32c7d6d573"
      },
      "source": [
        "# Create dictionary\n",
        "data_dict = [{\"Red\": 2, \"Blue\": 4},\n",
        "             {\"Red\": 4, \"Blue\": 3},\n",
        "             {\"Red\": 1, \"Yellow\": 2},\n",
        "             {\"Red\": 2, \"Yellow\": 2}]\n",
        "# Create dictionary vectorizer\n",
        "dictvectorizer = DictVectorizer(sparse=False)\n",
        "pd.DataFrame(data_dict)"
      ],
      "execution_count": 14,
      "outputs": [
        {
          "output_type": "execute_result",
          "data": {
            "text/html": [
              "<div>\n",
              "<style scoped>\n",
              "    .dataframe tbody tr th:only-of-type {\n",
              "        vertical-align: middle;\n",
              "    }\n",
              "\n",
              "    .dataframe tbody tr th {\n",
              "        vertical-align: top;\n",
              "    }\n",
              "\n",
              "    .dataframe thead th {\n",
              "        text-align: right;\n",
              "    }\n",
              "</style>\n",
              "<table border=\"1\" class=\"dataframe\">\n",
              "  <thead>\n",
              "    <tr style=\"text-align: right;\">\n",
              "      <th></th>\n",
              "      <th>Red</th>\n",
              "      <th>Blue</th>\n",
              "      <th>Yellow</th>\n",
              "    </tr>\n",
              "  </thead>\n",
              "  <tbody>\n",
              "    <tr>\n",
              "      <th>0</th>\n",
              "      <td>2</td>\n",
              "      <td>4.0</td>\n",
              "      <td>NaN</td>\n",
              "    </tr>\n",
              "    <tr>\n",
              "      <th>1</th>\n",
              "      <td>4</td>\n",
              "      <td>3.0</td>\n",
              "      <td>NaN</td>\n",
              "    </tr>\n",
              "    <tr>\n",
              "      <th>2</th>\n",
              "      <td>1</td>\n",
              "      <td>NaN</td>\n",
              "      <td>2.0</td>\n",
              "    </tr>\n",
              "    <tr>\n",
              "      <th>3</th>\n",
              "      <td>2</td>\n",
              "      <td>NaN</td>\n",
              "      <td>2.0</td>\n",
              "    </tr>\n",
              "  </tbody>\n",
              "</table>\n",
              "</div>"
            ],
            "text/plain": [
              "   Red  Blue  Yellow\n",
              "0    2   4.0     NaN\n",
              "1    4   3.0     NaN\n",
              "2    1   NaN     2.0\n",
              "3    2   NaN     2.0"
            ]
          },
          "metadata": {
            "tags": []
          },
          "execution_count": 14
        }
      ]
    },
    {
      "cell_type": "code",
      "metadata": {
        "colab": {
          "base_uri": "https://localhost:8080/"
        },
        "id": "m7penfR6SqY9",
        "outputId": "e95620e1-5a9d-4925-acac-9bd8d21e3099"
      },
      "source": [
        "dictvectorizer"
      ],
      "execution_count": 15,
      "outputs": [
        {
          "output_type": "execute_result",
          "data": {
            "text/plain": [
              "DictVectorizer(dtype=<class 'numpy.float64'>, separator='=', sort=True,\n",
              "               sparse=False)"
            ]
          },
          "metadata": {
            "tags": []
          },
          "execution_count": 15
        }
      ]
    },
    {
      "cell_type": "code",
      "metadata": {
        "colab": {
          "base_uri": "https://localhost:8080/"
        },
        "id": "GwaQMJ9JSr1s",
        "outputId": "a1a9792b-b10b-42f3-fe2c-4914e4477dfa"
      },
      "source": [
        "# Convert dictionary to feature matrix\n",
        "features = dictvectorizer.fit_transform(data_dict)\n",
        "features"
      ],
      "execution_count": 16,
      "outputs": [
        {
          "output_type": "execute_result",
          "data": {
            "text/plain": [
              "array([[4., 2., 0.],\n",
              "       [3., 4., 0.],\n",
              "       [0., 1., 2.],\n",
              "       [0., 2., 2.]])"
            ]
          },
          "metadata": {
            "tags": []
          },
          "execution_count": 16
        }
      ]
    },
    {
      "cell_type": "code",
      "metadata": {
        "colab": {
          "base_uri": "https://localhost:8080/"
        },
        "id": "a9nBbeD9S1hn",
        "outputId": "9489eb5a-4e96-427a-88bc-ecda70a7e6d1"
      },
      "source": [
        "# Get feature names\n",
        "feature_names = dictvectorizer.get_feature_names()\n",
        "feature_names"
      ],
      "execution_count": 17,
      "outputs": [
        {
          "output_type": "execute_result",
          "data": {
            "text/plain": [
              "['Blue', 'Red', 'Yellow']"
            ]
          },
          "metadata": {
            "tags": []
          },
          "execution_count": 17
        }
      ]
    },
    {
      "cell_type": "code",
      "metadata": {
        "colab": {
          "base_uri": "https://localhost:8080/",
          "height": 173
        },
        "id": "DWOkvYDsTJLb",
        "outputId": "30ee9970-fa7b-40e8-e97f-beb17867ef71"
      },
      "source": [
        "# Create dataframe from features\n",
        "pd.DataFrame(features, columns=feature_names)"
      ],
      "execution_count": 18,
      "outputs": [
        {
          "output_type": "execute_result",
          "data": {
            "text/html": [
              "<div>\n",
              "<style scoped>\n",
              "    .dataframe tbody tr th:only-of-type {\n",
              "        vertical-align: middle;\n",
              "    }\n",
              "\n",
              "    .dataframe tbody tr th {\n",
              "        vertical-align: top;\n",
              "    }\n",
              "\n",
              "    .dataframe thead th {\n",
              "        text-align: right;\n",
              "    }\n",
              "</style>\n",
              "<table border=\"1\" class=\"dataframe\">\n",
              "  <thead>\n",
              "    <tr style=\"text-align: right;\">\n",
              "      <th></th>\n",
              "      <th>Blue</th>\n",
              "      <th>Red</th>\n",
              "      <th>Yellow</th>\n",
              "    </tr>\n",
              "  </thead>\n",
              "  <tbody>\n",
              "    <tr>\n",
              "      <th>0</th>\n",
              "      <td>4.0</td>\n",
              "      <td>2.0</td>\n",
              "      <td>0.0</td>\n",
              "    </tr>\n",
              "    <tr>\n",
              "      <th>1</th>\n",
              "      <td>3.0</td>\n",
              "      <td>4.0</td>\n",
              "      <td>0.0</td>\n",
              "    </tr>\n",
              "    <tr>\n",
              "      <th>2</th>\n",
              "      <td>0.0</td>\n",
              "      <td>1.0</td>\n",
              "      <td>2.0</td>\n",
              "    </tr>\n",
              "    <tr>\n",
              "      <th>3</th>\n",
              "      <td>0.0</td>\n",
              "      <td>2.0</td>\n",
              "      <td>2.0</td>\n",
              "    </tr>\n",
              "  </tbody>\n",
              "</table>\n",
              "</div>"
            ],
            "text/plain": [
              "   Blue  Red  Yellow\n",
              "0   4.0  2.0     0.0\n",
              "1   3.0  4.0     0.0\n",
              "2   0.0  1.0     2.0\n",
              "3   0.0  2.0     2.0"
            ]
          },
          "metadata": {
            "tags": []
          },
          "execution_count": 18
        }
      ]
    },
    {
      "cell_type": "code",
      "metadata": {
        "id": "KnDekhsCTdDB"
      },
      "source": [
        "# Create word counts dictionaries for four documents\n",
        "doc_1_word_count = {\"Red\": 2, \"Blue\": 4}\n",
        "doc_2_word_count = {\"Red\": 4, \"Blue\": 3}\n",
        "doc_3_word_count = {\"Red\": 1, \"Yellow\": 2}\n",
        "doc_4_word_count = {\"Red\": 2, \"Yellow\": 2}"
      ],
      "execution_count": 19,
      "outputs": []
    },
    {
      "cell_type": "code",
      "metadata": {
        "id": "gQ1HWz7iTz7L"
      },
      "source": [
        "# Create list\n",
        "doc_word_counts = [doc_1_word_count,\n",
        "                   doc_2_word_count,\n",
        "                   doc_3_word_count,\n",
        "                   doc_4_word_count]\n"
      ],
      "execution_count": 20,
      "outputs": []
    },
    {
      "cell_type": "code",
      "metadata": {
        "colab": {
          "base_uri": "https://localhost:8080/"
        },
        "id": "E-khCrGAT9AB",
        "outputId": "d8a3d6f5-662a-437c-9afe-ac8577140dc8"
      },
      "source": [
        "# Convert list of word count dictionaries into feature matrix\n",
        "dictvectorizer.fit_transform(doc_word_counts)"
      ],
      "execution_count": 21,
      "outputs": [
        {
          "output_type": "execute_result",
          "data": {
            "text/plain": [
              "array([[4., 2., 0.],\n",
              "       [3., 4., 0.],\n",
              "       [0., 1., 2.],\n",
              "       [0., 2., 2.]])"
            ]
          },
          "metadata": {
            "tags": []
          },
          "execution_count": 21
        }
      ]
    },
    {
      "cell_type": "code",
      "metadata": {
        "id": "hxF_ETiSUEpe"
      },
      "source": [
        "from sklearn.neighbors import KNeighborsClassifier\n"
      ],
      "execution_count": 22,
      "outputs": []
    },
    {
      "cell_type": "code",
      "metadata": {
        "id": "qY4INA7-ffXs"
      },
      "source": [
        "# Create feature matrix with categorical feature\n",
        "X = np.array([[0, 2.10, 1.45],\n",
        "              [1, 1.18, 1.33],\n",
        "              [0, 1.22, 1.27],\n",
        "              [1, -0.21, -1.19]])\n",
        "# Create feature matrix with missing values in the categorical feature\n",
        "X_with_nan = np.array([[np.nan, 0.87, 1.31],\n",
        "                       [np.nan, -0.67, -0.22]])\n"
      ],
      "execution_count": 23,
      "outputs": []
    },
    {
      "cell_type": "code",
      "metadata": {
        "id": "_yfu70ZVftoI"
      },
      "source": [
        "# Train KNN learner\n",
        "clf = KNeighborsClassifier(3, weights='distance')\n",
        "trained_model = clf.fit(X[:,1:], X[:,0])"
      ],
      "execution_count": 24,
      "outputs": []
    },
    {
      "cell_type": "code",
      "metadata": {
        "colab": {
          "base_uri": "https://localhost:8080/"
        },
        "id": "8P2zDQ7ff0GA",
        "outputId": "71d23fe3-1473-4e17-b5c2-347917c6dc9a"
      },
      "source": [
        "trained_model"
      ],
      "execution_count": 25,
      "outputs": [
        {
          "output_type": "execute_result",
          "data": {
            "text/plain": [
              "KNeighborsClassifier(algorithm='auto', leaf_size=30, metric='minkowski',\n",
              "                     metric_params=None, n_jobs=None, n_neighbors=3, p=2,\n",
              "                     weights='distance')"
            ]
          },
          "metadata": {
            "tags": []
          },
          "execution_count": 25
        }
      ]
    },
    {
      "cell_type": "code",
      "metadata": {
        "id": "DaEGCehyf10d"
      },
      "source": [
        "# Predict missing values' class\n",
        "imputed_values = trained_model.predict(X_with_nan[:,1:])"
      ],
      "execution_count": 26,
      "outputs": []
    },
    {
      "cell_type": "code",
      "metadata": {
        "colab": {
          "base_uri": "https://localhost:8080/"
        },
        "id": "V--x3BDCf9GU",
        "outputId": "d2503029-afd7-42ed-f828-a970598b128c"
      },
      "source": [
        "imputed_values"
      ],
      "execution_count": 27,
      "outputs": [
        {
          "output_type": "execute_result",
          "data": {
            "text/plain": [
              "array([0., 1.])"
            ]
          },
          "metadata": {
            "tags": []
          },
          "execution_count": 27
        }
      ]
    },
    {
      "cell_type": "code",
      "metadata": {
        "id": "MAvI5ik5gAlF"
      },
      "source": [
        "# Join column of predicted class with their other features\n",
        "X_with_imputed = np.hstack((imputed_values.reshape(-1,1), X_with_nan[:,1:]))"
      ],
      "execution_count": 28,
      "outputs": []
    },
    {
      "cell_type": "code",
      "metadata": {
        "colab": {
          "base_uri": "https://localhost:8080/"
        },
        "id": "Qu0kOIwXgJGx",
        "outputId": "6bc18d25-e44b-409e-99d8-f68cfa979935"
      },
      "source": [
        "X_with_imputed"
      ],
      "execution_count": 29,
      "outputs": [
        {
          "output_type": "execute_result",
          "data": {
            "text/plain": [
              "array([[ 0.  ,  0.87,  1.31],\n",
              "       [ 1.  , -0.67, -0.22]])"
            ]
          },
          "metadata": {
            "tags": []
          },
          "execution_count": 29
        }
      ]
    },
    {
      "cell_type": "code",
      "metadata": {
        "colab": {
          "base_uri": "https://localhost:8080/"
        },
        "id": "n6qMo4AEgK2z",
        "outputId": "e0a369cf-0495-49ab-e3e3-2f4f315de991"
      },
      "source": [
        "# Join two feature matrices\n",
        "np.vstack((X_with_imputed, X))\n"
      ],
      "execution_count": 30,
      "outputs": [
        {
          "output_type": "execute_result",
          "data": {
            "text/plain": [
              "array([[ 0.  ,  0.87,  1.31],\n",
              "       [ 1.  , -0.67, -0.22],\n",
              "       [ 0.  ,  2.1 ,  1.45],\n",
              "       [ 1.  ,  1.18,  1.33],\n",
              "       [ 0.  ,  1.22,  1.27],\n",
              "       [ 1.  , -0.21, -1.19]])"
            ]
          },
          "metadata": {
            "tags": []
          },
          "execution_count": 30
        }
      ]
    },
    {
      "cell_type": "code",
      "metadata": {
        "id": "aCv_X9dvgUhx"
      },
      "source": [
        "# second method fill missig value"
      ],
      "execution_count": 31,
      "outputs": []
    },
    {
      "cell_type": "code",
      "metadata": {
        "id": "_kM26I32gj3J"
      },
      "source": [
        "from sklearn.ensemble import RandomForestClassifier\n",
        "from sklearn.datasets import load_iris"
      ],
      "execution_count": 34,
      "outputs": []
    },
    {
      "cell_type": "code",
      "metadata": {
        "id": "PGzUfO0SgmRk"
      },
      "source": [
        "# Load iris data\n",
        "iris = load_iris()"
      ],
      "execution_count": 35,
      "outputs": []
    },
    {
      "cell_type": "code",
      "metadata": {
        "id": "-knstDpyhg1O"
      },
      "source": [
        "# Create feature matrix\n",
        "features = iris.data\n",
        "# Create target vector\n",
        "target = iris.target\n",
        "# Remove first 40 observations\n",
        "features = features[40:,:]\n",
        "target = target[40:]"
      ],
      "execution_count": 36,
      "outputs": []
    },
    {
      "cell_type": "code",
      "metadata": {
        "colab": {
          "base_uri": "https://localhost:8080/"
        },
        "id": "JgY6vu-Vhnxr",
        "outputId": "d31d6bf5-bded-4d8b-d0fb-efff46c22177"
      },
      "source": [
        "target"
      ],
      "execution_count": 37,
      "outputs": [
        {
          "output_type": "execute_result",
          "data": {
            "text/plain": [
              "array([0, 0, 0, 0, 0, 0, 0, 0, 0, 0, 1, 1, 1, 1, 1, 1, 1, 1, 1, 1, 1, 1,\n",
              "       1, 1, 1, 1, 1, 1, 1, 1, 1, 1, 1, 1, 1, 1, 1, 1, 1, 1, 1, 1, 1, 1,\n",
              "       1, 1, 1, 1, 1, 1, 1, 1, 1, 1, 1, 1, 1, 1, 1, 1, 2, 2, 2, 2, 2, 2,\n",
              "       2, 2, 2, 2, 2, 2, 2, 2, 2, 2, 2, 2, 2, 2, 2, 2, 2, 2, 2, 2, 2, 2,\n",
              "       2, 2, 2, 2, 2, 2, 2, 2, 2, 2, 2, 2, 2, 2, 2, 2, 2, 2, 2, 2, 2, 2])"
            ]
          },
          "metadata": {
            "tags": []
          },
          "execution_count": 37
        }
      ]
    },
    {
      "cell_type": "code",
      "metadata": {
        "colab": {
          "base_uri": "https://localhost:8080/"
        },
        "id": "adXJzlCAhpKg",
        "outputId": "3692ac1a-2e83-46b6-9c70-49763c2334f5"
      },
      "source": [
        "# Create binary target vector indicating if class 0\n",
        "target = np.where((target == 0), 0, 1)\n",
        "target"
      ],
      "execution_count": 40,
      "outputs": [
        {
          "output_type": "execute_result",
          "data": {
            "text/plain": [
              "array([0, 0, 0, 0, 0, 0, 0, 0, 0, 0, 1, 1, 1, 1, 1, 1, 1, 1, 1, 1, 1, 1,\n",
              "       1, 1, 1, 1, 1, 1, 1, 1, 1, 1, 1, 1, 1, 1, 1, 1, 1, 1, 1, 1, 1, 1,\n",
              "       1, 1, 1, 1, 1, 1, 1, 1, 1, 1, 1, 1, 1, 1, 1, 1, 1, 1, 1, 1, 1, 1,\n",
              "       1, 1, 1, 1, 1, 1, 1, 1, 1, 1, 1, 1, 1, 1, 1, 1, 1, 1, 1, 1, 1, 1,\n",
              "       1, 1, 1, 1, 1, 1, 1, 1, 1, 1, 1, 1, 1, 1, 1, 1, 1, 1, 1, 1, 1, 1])"
            ]
          },
          "metadata": {
            "tags": []
          },
          "execution_count": 40
        }
      ]
    },
    {
      "cell_type": "code",
      "metadata": {
        "colab": {
          "base_uri": "https://localhost:8080/"
        },
        "id": "ssoiI4ROhrMb",
        "outputId": "26e8fb7e-2186-4e3c-9822-a490d7f40870"
      },
      "source": [
        "# Create weights\n",
        "weights = {0: .9, 1: 0.1}\n",
        "# Create random forest classifier with weights\n",
        "RandomForestClassifier(class_weight=weights)"
      ],
      "execution_count": 41,
      "outputs": [
        {
          "output_type": "execute_result",
          "data": {
            "text/plain": [
              "RandomForestClassifier(bootstrap=True, ccp_alpha=0.0,\n",
              "                       class_weight={0: 0.9, 1: 0.1}, criterion='gini',\n",
              "                       max_depth=None, max_features='auto', max_leaf_nodes=None,\n",
              "                       max_samples=None, min_impurity_decrease=0.0,\n",
              "                       min_impurity_split=None, min_samples_leaf=1,\n",
              "                       min_samples_split=2, min_weight_fraction_leaf=0.0,\n",
              "                       n_estimators=100, n_jobs=None, oob_score=False,\n",
              "                       random_state=None, verbose=0, warm_start=False)"
            ]
          },
          "metadata": {
            "tags": []
          },
          "execution_count": 41
        }
      ]
    },
    {
      "cell_type": "code",
      "metadata": {
        "colab": {
          "base_uri": "https://localhost:8080/"
        },
        "id": "0ULNBWOUiBfn",
        "outputId": "e00c5a72-22ef-4f67-f3ef-5ce8d5eca6dc"
      },
      "source": [
        "weights"
      ],
      "execution_count": 42,
      "outputs": [
        {
          "output_type": "execute_result",
          "data": {
            "text/plain": [
              "{0: 0.9, 1: 0.1}"
            ]
          },
          "metadata": {
            "tags": []
          },
          "execution_count": 42
        }
      ]
    },
    {
      "cell_type": "code",
      "metadata": {
        "colab": {
          "base_uri": "https://localhost:8080/"
        },
        "id": "fHL8T-gYiEh8",
        "outputId": "6c82f198-0bfd-4a7b-f2b6-60470c7f1145"
      },
      "source": [
        "# Train a random forest with balanced class weights\n",
        "RandomForestClassifier(class_weight=\"balanced\")"
      ],
      "execution_count": 43,
      "outputs": [
        {
          "output_type": "execute_result",
          "data": {
            "text/plain": [
              "RandomForestClassifier(bootstrap=True, ccp_alpha=0.0, class_weight='balanced',\n",
              "                       criterion='gini', max_depth=None, max_features='auto',\n",
              "                       max_leaf_nodes=None, max_samples=None,\n",
              "                       min_impurity_decrease=0.0, min_impurity_split=None,\n",
              "                       min_samples_leaf=1, min_samples_split=2,\n",
              "                       min_weight_fraction_leaf=0.0, n_estimators=100,\n",
              "                       n_jobs=None, oob_score=False, random_state=None,\n",
              "                       verbose=0, warm_start=False)"
            ]
          },
          "metadata": {
            "tags": []
          },
          "execution_count": 43
        }
      ]
    },
    {
      "cell_type": "code",
      "metadata": {
        "id": "riIQvqEiiTci"
      },
      "source": [
        "# Indicies of each class' observations\n",
        "i_class0 = np.where(target == 0)[0]\n",
        "i_class1 = np.where(target == 1)[0]"
      ],
      "execution_count": 44,
      "outputs": []
    },
    {
      "cell_type": "code",
      "metadata": {
        "colab": {
          "base_uri": "https://localhost:8080/"
        },
        "id": "eMUTH2N1iaTz",
        "outputId": "992f34ad-b0e2-4cde-8176-abbd49f2e7df"
      },
      "source": [
        "i_class0"
      ],
      "execution_count": 45,
      "outputs": [
        {
          "output_type": "execute_result",
          "data": {
            "text/plain": [
              "array([0, 1, 2, 3, 4, 5, 6, 7, 8, 9])"
            ]
          },
          "metadata": {
            "tags": []
          },
          "execution_count": 45
        }
      ]
    },
    {
      "cell_type": "code",
      "metadata": {
        "colab": {
          "base_uri": "https://localhost:8080/"
        },
        "id": "gdwsNOG0ibqN",
        "outputId": "80caeaf2-b015-4ff3-a88a-4979a0d01c09"
      },
      "source": [
        "i_class1"
      ],
      "execution_count": 46,
      "outputs": [
        {
          "output_type": "execute_result",
          "data": {
            "text/plain": [
              "array([ 10,  11,  12,  13,  14,  15,  16,  17,  18,  19,  20,  21,  22,\n",
              "        23,  24,  25,  26,  27,  28,  29,  30,  31,  32,  33,  34,  35,\n",
              "        36,  37,  38,  39,  40,  41,  42,  43,  44,  45,  46,  47,  48,\n",
              "        49,  50,  51,  52,  53,  54,  55,  56,  57,  58,  59,  60,  61,\n",
              "        62,  63,  64,  65,  66,  67,  68,  69,  70,  71,  72,  73,  74,\n",
              "        75,  76,  77,  78,  79,  80,  81,  82,  83,  84,  85,  86,  87,\n",
              "        88,  89,  90,  91,  92,  93,  94,  95,  96,  97,  98,  99, 100,\n",
              "       101, 102, 103, 104, 105, 106, 107, 108, 109])"
            ]
          },
          "metadata": {
            "tags": []
          },
          "execution_count": 46
        }
      ]
    },
    {
      "cell_type": "code",
      "metadata": {
        "id": "QYl-h-h5idsQ"
      },
      "source": [
        "# Number of observations in each class\n",
        "n_class0 = len(i_class0)\n",
        "n_class1 = len(i_class1)"
      ],
      "execution_count": 47,
      "outputs": []
    },
    {
      "cell_type": "code",
      "metadata": {
        "colab": {
          "base_uri": "https://localhost:8080/"
        },
        "id": "qFZHhswbiirZ",
        "outputId": "48bd0930-7e0c-4f42-bd19-e8384df93f4a"
      },
      "source": [
        "n_class1"
      ],
      "execution_count": 49,
      "outputs": [
        {
          "output_type": "execute_result",
          "data": {
            "text/plain": [
              "100"
            ]
          },
          "metadata": {
            "tags": []
          },
          "execution_count": 49
        }
      ]
    },
    {
      "cell_type": "code",
      "metadata": {
        "id": "jV6xpj6oij9W"
      },
      "source": [
        "# For every observation of class 0, randomly sample\n",
        "# from class 1 without replacement\n",
        "i_class1_downsampled = np.random.choice(i_class1, size=n_class0, replace=False)"
      ],
      "execution_count": 50,
      "outputs": []
    },
    {
      "cell_type": "code",
      "metadata": {
        "colab": {
          "base_uri": "https://localhost:8080/"
        },
        "id": "Ypr-UED3isDT",
        "outputId": "8e3491ba-4323-4d73-cad8-e8ea5c40eeb9"
      },
      "source": [
        "i_class1_downsampled\n"
      ],
      "execution_count": 51,
      "outputs": [
        {
          "output_type": "execute_result",
          "data": {
            "text/plain": [
              "array([ 15,  63,  97,  32, 107,  34,  14,  37,  16,  39])"
            ]
          },
          "metadata": {
            "tags": []
          },
          "execution_count": 51
        }
      ]
    },
    {
      "cell_type": "code",
      "metadata": {
        "colab": {
          "base_uri": "https://localhost:8080/"
        },
        "id": "SeMNOIqbitwm",
        "outputId": "d1f996a2-03fa-4c47-b0df-621c10212957"
      },
      "source": [
        "# Join together class 0's target vector with the\n",
        "# downsampled class 1's target vector\n",
        "np.hstack((target[i_class0], target[i_class1_downsampled]))"
      ],
      "execution_count": 52,
      "outputs": [
        {
          "output_type": "execute_result",
          "data": {
            "text/plain": [
              "array([0, 0, 0, 0, 0, 0, 0, 0, 0, 0, 1, 1, 1, 1, 1, 1, 1, 1, 1, 1])"
            ]
          },
          "metadata": {
            "tags": []
          },
          "execution_count": 52
        }
      ]
    },
    {
      "cell_type": "code",
      "metadata": {
        "colab": {
          "base_uri": "https://localhost:8080/"
        },
        "id": "zdG96o8fi3ja",
        "outputId": "cabd4706-a0eb-49c2-f591-1399467464e3"
      },
      "source": [
        "# Join together class 0's feature matrix with the\n",
        "# downsampled class 1's feature matrix\n",
        "np.vstack((features[i_class0,:], features[i_class1_downsampled,:]))[0:5]"
      ],
      "execution_count": 53,
      "outputs": [
        {
          "output_type": "execute_result",
          "data": {
            "text/plain": [
              "array([[5. , 3.5, 1.3, 0.3],\n",
              "       [4.5, 2.3, 1.3, 0.3],\n",
              "       [4.4, 3.2, 1.3, 0.2],\n",
              "       [5. , 3.5, 1.6, 0.6],\n",
              "       [5.1, 3.8, 1.9, 0.4]])"
            ]
          },
          "metadata": {
            "tags": []
          },
          "execution_count": 53
        }
      ]
    },
    {
      "cell_type": "code",
      "metadata": {
        "id": "jMx0W0vvi7ow"
      },
      "source": [
        "# For every observation in class 1, randomly sample from class 0 with replacement\n",
        "i_class0_upsampled = np.random.choice(i_class0, size=n_class1, replace=True)"
      ],
      "execution_count": 54,
      "outputs": []
    },
    {
      "cell_type": "code",
      "metadata": {
        "colab": {
          "base_uri": "https://localhost:8080/"
        },
        "id": "L4LEdRDtjCrr",
        "outputId": "c054362d-84ca-4747-f5f4-e0c4b937c3dd"
      },
      "source": [
        "i_class0_upsampled"
      ],
      "execution_count": 55,
      "outputs": [
        {
          "output_type": "execute_result",
          "data": {
            "text/plain": [
              "array([3, 1, 3, 2, 7, 9, 9, 5, 2, 3, 6, 2, 7, 3, 5, 1, 5, 6, 0, 5, 3, 5,\n",
              "       7, 4, 8, 9, 3, 8, 1, 5, 2, 4, 7, 5, 8, 0, 0, 2, 9, 1, 2, 4, 9, 6,\n",
              "       8, 7, 9, 5, 8, 4, 1, 1, 9, 0, 4, 3, 9, 4, 1, 7, 7, 6, 9, 9, 7, 4,\n",
              "       9, 2, 9, 1, 3, 7, 4, 4, 7, 3, 4, 0, 5, 7, 2, 1, 7, 6, 7, 5, 2, 4,\n",
              "       4, 5, 7, 4, 0, 1, 6, 2, 4, 8, 1, 4])"
            ]
          },
          "metadata": {
            "tags": []
          },
          "execution_count": 55
        }
      ]
    },
    {
      "cell_type": "code",
      "metadata": {
        "colab": {
          "base_uri": "https://localhost:8080/"
        },
        "id": "bvOZZzvZjEf5",
        "outputId": "5bf70a66-4cca-4171-f4d5-b239ffbde25a"
      },
      "source": [
        "# Join together class 0's upsampled target vector with class 1's target vector\n",
        "np.concatenate((target[i_class0_upsampled], target[i_class1]))"
      ],
      "execution_count": 56,
      "outputs": [
        {
          "output_type": "execute_result",
          "data": {
            "text/plain": [
              "array([0, 0, 0, 0, 0, 0, 0, 0, 0, 0, 0, 0, 0, 0, 0, 0, 0, 0, 0, 0, 0, 0,\n",
              "       0, 0, 0, 0, 0, 0, 0, 0, 0, 0, 0, 0, 0, 0, 0, 0, 0, 0, 0, 0, 0, 0,\n",
              "       0, 0, 0, 0, 0, 0, 0, 0, 0, 0, 0, 0, 0, 0, 0, 0, 0, 0, 0, 0, 0, 0,\n",
              "       0, 0, 0, 0, 0, 0, 0, 0, 0, 0, 0, 0, 0, 0, 0, 0, 0, 0, 0, 0, 0, 0,\n",
              "       0, 0, 0, 0, 0, 0, 0, 0, 0, 0, 0, 0, 1, 1, 1, 1, 1, 1, 1, 1, 1, 1,\n",
              "       1, 1, 1, 1, 1, 1, 1, 1, 1, 1, 1, 1, 1, 1, 1, 1, 1, 1, 1, 1, 1, 1,\n",
              "       1, 1, 1, 1, 1, 1, 1, 1, 1, 1, 1, 1, 1, 1, 1, 1, 1, 1, 1, 1, 1, 1,\n",
              "       1, 1, 1, 1, 1, 1, 1, 1, 1, 1, 1, 1, 1, 1, 1, 1, 1, 1, 1, 1, 1, 1,\n",
              "       1, 1, 1, 1, 1, 1, 1, 1, 1, 1, 1, 1, 1, 1, 1, 1, 1, 1, 1, 1, 1, 1,\n",
              "       1, 1])"
            ]
          },
          "metadata": {
            "tags": []
          },
          "execution_count": 56
        }
      ]
    },
    {
      "cell_type": "code",
      "metadata": {
        "colab": {
          "base_uri": "https://localhost:8080/"
        },
        "id": "8Z-j41lVjJKG",
        "outputId": "b2f2c4f4-d270-447b-9ea0-c91506e80ff4"
      },
      "source": [
        "# Join together class 0's upsampled feature matrix with class 1's feature matrix\n",
        "np.vstack((features[i_class0_upsampled,:], features[i_class1,:]))[0:5]"
      ],
      "execution_count": 57,
      "outputs": [
        {
          "output_type": "execute_result",
          "data": {
            "text/plain": [
              "array([[5. , 3.5, 1.6, 0.6],\n",
              "       [4.5, 2.3, 1.3, 0.3],\n",
              "       [5. , 3.5, 1.6, 0.6],\n",
              "       [4.4, 3.2, 1.3, 0.2],\n",
              "       [4.6, 3.2, 1.4, 0.2]])"
            ]
          },
          "metadata": {
            "tags": []
          },
          "execution_count": 57
        }
      ]
    },
    {
      "cell_type": "code",
      "metadata": {
        "id": "ly0KUB8fjO-F"
      },
      "source": [
        ""
      ],
      "execution_count": null,
      "outputs": []
    }
  ]
}
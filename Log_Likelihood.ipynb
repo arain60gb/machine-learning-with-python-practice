{
 "cells": [
  {
   "cell_type": "code",
   "execution_count": 1,
   "metadata": {},
   "outputs": [],
   "source": [
    "import numpy as np\n",
    "import matplotlib.pyplot as plt\n",
    "\n",
    "n_samples = 1000\n",
    "n_features = 2\n",
    "mu = 10\n",
    "sigma = 2.5\n",
    "\n",
    "np.random.seed(42)\n",
    "X = np.random.normal(mu, sigma, size=(n_samples, n_features))"
   ]
  },
  {
   "cell_type": "code",
   "execution_count": 2,
   "metadata": {},
   "outputs": [
    {
     "data": {
      "text/plain": [
       "array([[11.24178538,  9.65433925],\n",
       "       [11.61922135, 13.80757464],\n",
       "       [ 9.41461656,  9.41465761],\n",
       "       ...,\n",
       "       [10.87862052, 12.6753756 ],\n",
       "       [ 9.93369685,  7.79531337],\n",
       "       [ 9.59233259,  8.13774339]])"
      ]
     },
     "execution_count": 2,
     "metadata": {},
     "output_type": "execute_result"
    }
   ],
   "source": [
    "X"
   ]
  },
  {
   "cell_type": "code",
   "execution_count": 36,
   "metadata": {},
   "outputs": [],
   "source": [
    "# relation\n",
    "a = 0.5\n",
    "b = 2\n",
    "\n",
    "# amount of examples\n",
    "N = 300\n",
    "\n",
    "# normal distributed error\n",
    "error_variance = 3\n",
    "error_offset = 0\n",
    "\n",
    "# create dataset\n",
    "np.random.seed(2020)\n",
    "X = np.random.randint(low=0, high=100, size=N)\n",
    "y_true = a * X + b\n",
    "error = np.random.normal(loc=error_offset, scale=error_variance, size=N)\n",
    "y =  y_true + error\n"
   ]
  },
  {
   "cell_type": "code",
   "execution_count": 38,
   "metadata": {},
   "outputs": [
    {
     "data": {
      "image/png": "[encoded data removed]",
      "text/plain": [
       "<Figure size 554.4x288 with 1 Axes>"
      ]
     },
     "metadata": {},
     "output_type": "display_data"
    }
   ],
   "source": [
    "def plot_data(X, y):\n",
    "    fig, ax = plt.subplots(1, 1, figsize=(7.7, 4), tight_layout=True)\n",
    "    plt.xticks(fontsize=14)\n",
    "    plt.yticks(fontsize=14)\n",
    "    fig.patch.set_facecolor('white')\n",
    "    ax.scatter(X, y, alpha=0.85, color='lightblue', edgecolors='blue', s=20, linewidth=0.2)\n",
    "    ax.axis('equal');\n",
    "    _, _ = ax.set_xlabel('$X$', fontsize=17), ax.set_ylabel('$y$', fontsize=17)\n",
    "    ax.spines['right'].set_visible(False)\n",
    "    ax.spines['top'].set_visible(False)\n",
    "    dark_grey = '#262626'\n",
    "    for spine in ['bottom', 'left']:\n",
    "        ax.spines[spine].set_linewidth(0.5)\n",
    "        ax.spines[spine].set_color(dark_grey)\n",
    "    ax.xaxis.label.set_color(dark_grey)\n",
    "    ax.yaxis.label.set_color(dark_grey)\n",
    "    ax.xaxis.set_ticks_position('none')\n",
    "    ax.yaxis.set_ticks_position('none')\n",
    "    \n",
    "plot_data(X, y)"
   ]
  },
  {
   "cell_type": "code",
   "execution_count": null,
   "metadata": {},
   "outputs": [],
   "source": []
  },
  {
   "cell_type": "code",
   "execution_count": null,
   "metadata": {},
   "outputs": [],
   "source": []
  },
  {
   "cell_type": "code",
   "execution_count": null,
   "metadata": {},
   "outputs": [],
   "source": []
  },
  {
   "cell_type": "code",
   "execution_count": null,
   "metadata": {},
   "outputs": [],
   "source": []
  },
  {
   "cell_type": "code",
   "execution_count": null,
   "metadata": {},
   "outputs": [],
   "source": []
  },
  {
   "cell_type": "code",
   "execution_count": null,
   "metadata": {},
   "outputs": [],
   "source": []
  },
  {
   "cell_type": "code",
   "execution_count": null,
   "metadata": {},
   "outputs": [],
   "source": []
  },
  {
   "cell_type": "code",
   "execution_count": null,
   "metadata": {},
   "outputs": [],
   "source": []
  },
  {
   "cell_type": "code",
   "execution_count": null,
   "metadata": {},
   "outputs": [],
   "source": []
  }
 ],
 "metadata": {
  "kernelspec": {
   "display_name": "Python 3",
   "language": "python",
   "name": "python3"
  },
  "language_info": {
   "codemirror_mode": {
    "name": "ipython",
    "version": 3
   },
   "file_extension": ".py",
   "mimetype": "text/x-python",
   "name": "python",
   "nbconvert_exporter": "python",
   "pygments_lexer": "ipython3",
   "version": "3.7.7"
  }
 },
 "nbformat": 4,
 "nbformat_minor": 4
}
